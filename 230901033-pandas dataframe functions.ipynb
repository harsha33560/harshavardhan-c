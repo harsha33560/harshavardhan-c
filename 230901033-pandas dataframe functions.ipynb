{
 "cells": [
  {
   "cell_type": "code",
   "execution_count": 1,
   "id": "9b3050d8-03cd-49cf-b4ef-868eb9887d31",
   "metadata": {},
   "outputs": [
    {
     "name": "stdout",
     "output_type": "stream",
     "text": [
      "\n",
      "Original Dataframe:\n",
      "    S  R\n",
      "0  3  9\n",
      "1  3  9\n",
      "2  3  9\n",
      "3  3  9\n",
      "\n",
      "Square root:\n",
      "           S    R\n",
      "0  1.732051  3.0\n",
      "1  1.732051  3.0\n",
      "2  1.732051  3.0\n",
      "3  1.732051  3.0\n",
      "\n",
      "Sum of each column:\n",
      " S    12\n",
      "R    36\n",
      "dtype: int64\n",
      "\n",
      "Sum of each row:\n",
      " 0    12\n",
      "1    12\n",
      "2    12\n",
      "3    12\n",
      "dtype: int64\n"
     ]
    }
   ],
   "source": [
    "import pandas as pd \n",
    "import numpy as np\n",
    "info=pd.DataFrame([[3,9]]*4,columns=['S','R'])\n",
    "print(\"\\nOriginal Dataframe:\\n\",info)\n",
    "print(\"\\nSquare root:\\n\",info.apply(np.sqrt))\n",
    "print(\"\\nSum of each column:\\n\",info.apply(np.sum,axis=0))\n",
    "print(\"\\nSum of each row:\\n\",info.apply(np.sum,axis=1))"
   ]
  },
  {
   "cell_type": "code",
   "execution_count": 3,
   "id": "c2747881-3efe-4486-ab8c-503e1bd675e2",
   "metadata": {},
   "outputs": [
    {
     "name": "stdout",
     "output_type": "stream",
     "text": [
      "   X  Y  Z\n",
      "0  2  4  6\n",
      "1  1  3  5\n",
      "2  5  8  7\n",
      "     X  Y  Z\n",
      "min  1  3  5\n",
      "max  5  8  7\n"
     ]
    }
   ],
   "source": [
    "import pandas as pd \n",
    "import numpy as np\n",
    "info=pd.DataFrame([[2,4,6],[1,3,5],[5,8,7]],columns=['X','Y','Z'])\n",
    "print(info)\n",
    "print(info.agg(['min','max']))"
   ]
  },
  {
   "cell_type": "code",
   "execution_count": 5,
   "id": "9f070c09-5f0f-4ad5-9204-6b88b52c963e",
   "metadata": {},
   "outputs": [
    {
     "name": "stdout",
     "output_type": "stream",
     "text": [
      "  EmpName  ID\n",
      "0     sai  88\n",
      "1   pooja  70\n",
      "Adding a new column:\n",
      "   EmpName  ID  Age\n",
      "0     sai  88   20\n",
      "1   pooja  70   18\n",
      "Adding a new column:\n",
      "   EmpName  ID   Sex\n",
      "0     sai  88  male\n",
      "1   pooja  70  male\n"
     ]
    }
   ],
   "source": [
    "import pandas as pd \n",
    "import numpy as np\n",
    "josh=pd.DataFrame([['sai',88],['pooja',70]],columns=['EmpName','ID'])\n",
    "print(josh)\n",
    "info=josh.assign(Age=[20,18])\n",
    "print(\"Adding a new column:\\n\",info)\n",
    "josh['Sex']=['male','male']\n",
    "print(\"Adding a new column:\\n\",josh)"
   ]
  },
  {
   "cell_type": "code",
   "execution_count": 7,
   "id": "487437c7-122a-419a-bc36-fc00e05002f8",
   "metadata": {},
   "outputs": [
    {
     "name": "stdout",
     "output_type": "stream",
     "text": [
      "       col3      col4\n",
      "3  0.204735  0.103448\n",
      "2 -0.212268  0.342873\n",
      "0 -0.141991 -0.806278\n",
      "4  1.660289 -1.304884\n",
      "1 -2.251262 -0.543196\n",
      "       col3      col4\n",
      "0 -0.141991 -0.806278\n",
      "1 -2.251262 -0.543196\n",
      "2 -0.212268  0.342873\n",
      "3  0.204735  0.103448\n",
      "4  1.660289 -1.304884\n",
      "       col3      col4\n",
      "1 -2.251262 -0.543196\n",
      "2 -0.212268  0.342873\n",
      "0 -0.141991 -0.806278\n",
      "3  0.204735  0.103448\n",
      "4  1.660289 -1.304884\n"
     ]
    }
   ],
   "source": [
    "import pandas as pd\n",
    "import numpy as np\n",
    "info=pd.DataFrame(np.random.randn(5,2),index=[3,2,0,4,1],columns=['col3','col4'])\n",
    "print(info)\n",
    "info2=info.sort_index()\n",
    "print(info2)\n",
    "info3=info.sort_values(by='col3')\n",
    "print(info3)"
   ]
  },
  {
   "cell_type": "code",
   "execution_count": 9,
   "id": "2ea4b4d7-a837-4542-810a-458e5789ea23",
   "metadata": {},
   "outputs": [
    {
     "name": "stdout",
     "output_type": "stream",
     "text": [
      "   id   Name   sub\n",
      "0   1    sai  sub1\n",
      "1   2  pooja  sub2\n",
      "2   3   saba  sub4\n",
      "3   4   yuvi  sub3\n",
      "   id    Name   sub\n",
      "0   1  sanjay  sub2\n",
      "1   2   saran  sub4\n",
      "2   3     som  sub3\n",
      "3   4    ruba  sub1\n",
      "   id Name_x sub_x  Name_y sub_y\n",
      "0   1    sai  sub1  sanjay  sub2\n",
      "1   2  pooja  sub2   saran  sub4\n",
      "2   3   saba  sub4     som  sub3\n",
      "3   4   yuvi  sub3    ruba  sub1\n"
     ]
    }
   ],
   "source": [
    "\n",
    "import pandas as pd\n",
    "import numpy as np\n",
    "left=pd.DataFrame({'id':[1,2,3,4],'Name':['sai','pooja','saba','yuvi'],'sub':['sub1','sub2','sub4','sub3']})\n",
    "right=pd.DataFrame({'id':[1,2,3,4],'Name':['sanjay','saran','som','ruba'],'sub':['sub2','sub4','sub3','sub1']})\n",
    "print(left)\n",
    "print(right)\n",
    "print(pd.merge(left,right,on=\"id\"))"
   ]
  },
  {
   "cell_type": "code",
   "execution_count": null,
   "id": "fb23fe2c-2715-46f0-b5d3-e0a8ab0ad40e",
   "metadata": {},
   "outputs": [],
   "source": []
  }
 ],
 "metadata": {
  "kernelspec": {
   "display_name": "Python [conda env:base] *",
   "language": "python",
   "name": "conda-base-py"
  },
  "language_info": {
   "codemirror_mode": {
    "name": "ipython",
    "version": 3
   },
   "file_extension": ".py",
   "mimetype": "text/x-python",
   "name": "python",
   "nbconvert_exporter": "python",
   "pygments_lexer": "ipython3",
   "version": "3.12.7"
  }
 },
 "nbformat": 4,
 "nbformat_minor": 5
}
