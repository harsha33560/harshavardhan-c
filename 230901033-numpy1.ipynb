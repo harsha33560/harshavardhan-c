{
 "cells": [
  {
   "cell_type": "code",
   "execution_count": 1,
   "id": "f98d44cb-64a6-4929-98ab-39ea6f38a933",
   "metadata": {},
   "outputs": [
    {
     "name": "stdout",
     "output_type": "stream",
     "text": [
      "One Dimensional array:\n",
      " [10 20 30 40]\n"
     ]
    }
   ],
   "source": [
    "import numpy as np\n",
    "a=np.array([10,20,30,40])\n",
    "print(\"One Dimensional array:\\n\",a)"
   ]
  },
  {
   "cell_type": "code",
   "execution_count": 3,
   "id": "50942412-dfdb-44db-8eb8-ae6a8ae8228c",
   "metadata": {},
   "outputs": [
    {
     "name": "stdout",
     "output_type": "stream",
     "text": [
      "Two Dimensional array:\n",
      " [[10 20 30 40]\n",
      " [50 60 70 80]]\n"
     ]
    }
   ],
   "source": [
    "import numpy as np\n",
    "b=np.array([[10,20,30,40],[50,60,70,80]])\n",
    "print(\"Two Dimensional array:\\n\",b)"
   ]
  },
  {
   "cell_type": "code",
   "execution_count": 5,
   "id": "c4728074-30c1-476c-95c3-6442b4abcff7",
   "metadata": {},
   "outputs": [
    {
     "name": "stdout",
     "output_type": "stream",
     "text": [
      "Three Dimensional array:\n",
      " [[ 10  20  30  40]\n",
      " [ 50  60  70  80]\n",
      " [ 90 100 110 120]]\n"
     ]
    }
   ],
   "source": [
    "import numpy as np\n",
    "c=np.array([[10,20,30,40],[50,60,70,80],[90,100,110,120]])\n",
    "print(\"Three Dimensional array:\\n\",c)"
   ]
  },
  {
   "cell_type": "code",
   "execution_count": 7,
   "id": "d3c03b92-1877-45d2-89da-305134aeab97",
   "metadata": {},
   "outputs": [
    {
     "name": "stdout",
     "output_type": "stream",
     "text": [
      "Array with all zeros:\n",
      " [[0. 0. 0. 0. 0.]\n",
      " [0. 0. 0. 0. 0.]\n",
      " [0. 0. 0. 0. 0.]]\n"
     ]
    }
   ],
   "source": [
    "import numpy as np\n",
    "d=np.zeros((3,5))\n",
    "print(\"Array with all zeros:\\n\",d)"
   ]
  },
  {
   "cell_type": "code",
   "execution_count": 9,
   "id": "35bbab1c-d750-4fc4-9ac3-26f686ac5625",
   "metadata": {},
   "outputs": [
    {
     "name": "stdout",
     "output_type": "stream",
     "text": [
      "\n",
      "Random value:\n",
      " [[0.14710975 0.80578783 0.87077402]\n",
      " [0.12570881 0.97959878 0.80761609]]\n"
     ]
    }
   ],
   "source": [
    "import numpy as np\n",
    "e=np.random.random((2,3))\n",
    "print(\"\\nRandom value:\\n\",e)"
   ]
  },
  {
   "cell_type": "code",
   "execution_count": 11,
   "id": "04e12e0c-161d-4b03-b5cf-27d9670a90b0",
   "metadata": {},
   "outputs": [
    {
     "name": "stdout",
     "output_type": "stream",
     "text": [
      "\n",
      "Sequence array:\n",
      " [20 25 30 35 40 45 50 55]\n"
     ]
    }
   ],
   "source": [
    "import numpy as np\n",
    "f=np.arange(20,60,5)\n",
    "print(\"\\nSequence array:\\n\",f)"
   ]
  },
  {
   "cell_type": "code",
   "execution_count": 13,
   "id": "243e5543-bab1-4f28-a09e-1854a2b42f9e",
   "metadata": {},
   "outputs": [
    {
     "name": "stdout",
     "output_type": "stream",
     "text": [
      "\n",
      "normal three dimensional array:\n",
      " [[ 10  20  30  40]\n",
      " [ 50  60  70  80]\n",
      " [ 90 100 110 120]] \n",
      "reshaped array:\n",
      " [[ 10  20  30]\n",
      " [ 40  50  60]\n",
      " [ 70  80  90]\n",
      " [100 110 120]]\n"
     ]
    }
   ],
   "source": [
    "import numpy as np\n",
    "g=np.array([[10,20,30,40],[50,60,70,80],[90,100,110,120]])\n",
    "h=g.reshape(4,3)\n",
    "print(\"\\nnormal three dimensional array:\\n\",g,\"\\nreshaped array:\\n\",h)"
   ]
  },
  {
   "cell_type": "code",
   "execution_count": 15,
   "id": "63ab5748-02d2-4acf-94ae-9a365038e99e",
   "metadata": {},
   "outputs": [
    {
     "name": "stdout",
     "output_type": "stream",
     "text": [
      "\n",
      "normal three dimensional array:\n",
      " [[ 10  20  30  40]\n",
      " [ 50  60  70  80]\n",
      " [ 90 100 110 120]] \n",
      "Flatten array:\n",
      " [ 10  20  30  40  50  60  70  80  90 100 110 120]\n"
     ]
    }
   ],
   "source": [
    "import numpy as np\n",
    "g=np.array([[10,20,30,40],[50,60,70,80],[90,100,110,120]])\n",
    "i=g.flatten()\n",
    "print(\"\\nnormal three dimensional array:\\n\",g,\"\\nFlatten array:\\n\",i)"
   ]
  },
  {
   "cell_type": "code",
   "execution_count": 17,
   "id": "02271b41-b194-4074-9c51-e5a7146d2bc4",
   "metadata": {},
   "outputs": [
    {
     "name": "stdout",
     "output_type": "stream",
     "text": [
      "\n",
      "Array dimension:\n",
      " 3\n"
     ]
    }
   ],
   "source": [
    "import numpy as np\n",
    "g=np.array([[[10,20,30,40],[50,60,70,80]],[[90,100,110,120],[130,140,150,160]]])\n",
    "print(\"\\nArray dimension:\\n\",g.ndim)"
   ]
  },
  {
   "cell_type": "code",
   "execution_count": 19,
   "id": "d62388be-02f7-4485-845a-6806a20e3af8",
   "metadata": {},
   "outputs": [
    {
     "name": "stdout",
     "output_type": "stream",
     "text": [
      "Shape of the array:\n",
      " (3, 4)\n"
     ]
    }
   ],
   "source": [
    "import numpy as np\n",
    "c=np.array([[10,20,30,40],[50,60,70,80],[90,100,110,120]])\n",
    "print(\"Shape of the array:\\n\",c.shape)"
   ]
  },
  {
   "cell_type": "code",
   "execution_count": 21,
   "id": "62a156f8-3cd2-40d1-a8a2-0c180f26f6a9",
   "metadata": {},
   "outputs": [
    {
     "name": "stdout",
     "output_type": "stream",
     "text": [
      "Datatype of the array:\n",
      " int32\n"
     ]
    }
   ],
   "source": [
    "import numpy as np\n",
    "c=np.array([[10,20,30,40],[50,60,70,80],[90,100,110,120]])\n",
    "print(\"Datatype of the array:\\n\",c.dtype)"
   ]
  },
  {
   "cell_type": "code",
   "execution_count": 23,
   "id": "4afc21a0-da08-4afb-8e0c-e262d7ef212b",
   "metadata": {},
   "outputs": [
    {
     "name": "stdout",
     "output_type": "stream",
     "text": [
      "size of the array:\n",
      " 3\n"
     ]
    }
   ],
   "source": [
    "import numpy as np\n",
    "c=np.array([[10,20,30,40],[50,60,70,80],[90,100,110,120]])\n",
    "size=len(c)\n",
    "print(\"size of the array:\\n\",size)"
   ]
  },
  {
   "cell_type": "code",
   "execution_count": 25,
   "id": "9255f271-140d-452b-92c9-1e1cbec4469b",
   "metadata": {},
   "outputs": [
    {
     "name": "stdout",
     "output_type": "stream",
     "text": [
      "[1 2 3]\n",
      "[1. 2. 3.]\n",
      "float64\n"
     ]
    }
   ],
   "source": [
    "import numpy as np\n",
    "a=[1,2,3]\n",
    "a=np.array(a)\n",
    "newtype=a.astype('float64')\n",
    "print(a)\n",
    "print(newtype)\n",
    "print(newtype.dtype)"
   ]
  },
  {
   "cell_type": "code",
   "execution_count": null,
   "id": "62331988-9d37-4a09-930a-5eecfdd26b67",
   "metadata": {},
   "outputs": [],
   "source": []
  }
 ],
 "metadata": {
  "kernelspec": {
   "display_name": "Python [conda env:base] *",
   "language": "python",
   "name": "conda-base-py"
  },
  "language_info": {
   "codemirror_mode": {
    "name": "ipython",
    "version": 3
   },
   "file_extension": ".py",
   "mimetype": "text/x-python",
   "name": "python",
   "nbconvert_exporter": "python",
   "pygments_lexer": "ipython3",
   "version": "3.12.7"
  }
 },
 "nbformat": 4,
 "nbformat_minor": 5
}
