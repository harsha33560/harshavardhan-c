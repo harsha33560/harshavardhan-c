{
 "cells": [
  {
   "cell_type": "code",
   "execution_count": 11,
   "id": "14f542c8-e365-4807-9cd1-43b183ba1382",
   "metadata": {},
   "outputs": [
    {
     "name": "stdout",
     "output_type": "stream",
     "text": [
      "0    J\n",
      "1    o\n",
      "2    s\n",
      "3    h\n",
      "4    u\n",
      "5    a\n",
      "dtype: object\n"
     ]
    }
   ],
   "source": [
    "import pandas as pd\n",
    "import numpy as np\n",
    "a=np.array(['J','o','s','h','u','a'])\n",
    "a=pd.Series(a)\n",
    "print(a)"
   ]
  },
  {
   "cell_type": "code",
   "execution_count": 13,
   "id": "a7ad60f5-7f30-475b-9dcc-0beff3636602",
   "metadata": {},
   "outputs": [
    {
     "name": "stdout",
     "output_type": "stream",
     "text": [
      "['J' 'o' 'e']\n"
     ]
    }
   ],
   "source": [
    "import pandas as pd\n",
    "import numpy as np\n",
    "a=np.array(['J','o','e'])\n",
    "print(a)"
   ]
  },
  {
   "cell_type": "code",
   "execution_count": 15,
   "id": "bb42c882-4160-45b9-83ac-f613d4b7a968",
   "metadata": {},
   "outputs": [
    {
     "name": "stdout",
     "output_type": "stream",
     "text": [
      "a    0\n",
      "b    1\n",
      "c    2\n",
      "dtype: int64\n"
     ]
    }
   ],
   "source": [
    "import pandas as pd\n",
    "import numpy as np\n",
    "a={'a':0,'b':1,'c':2}\n",
    "a=pd.Series(a)\n",
    "print(a)"
   ]
  },
  {
   "cell_type": "code",
   "execution_count": 17,
   "id": "f5b7f7a4-c23b-407b-b68d-9c30128e04ef",
   "metadata": {},
   "outputs": [
    {
     "name": "stdout",
     "output_type": "stream",
     "text": [
      "0    4\n",
      "1    4\n",
      "2    4\n",
      "3    4\n",
      "dtype: int64\n"
     ]
    }
   ],
   "source": [
    "\n",
    "import numpy as np\n",
    "import pandas as pd\n",
    "a=pd.Series(4,index=[0,1,2,3])\n",
    "print(a)"
   ]
  },
  {
   "cell_type": "code",
   "execution_count": 19,
   "id": "65041b36-aa8b-4f67-90ab-b01f1e3c924a",
   "metadata": {},
   "outputs": [
    {
     "name": "stdout",
     "output_type": "stream",
     "text": [
      "\n",
      "A Series:\n",
      " 0    J\n",
      "1    o\n",
      "2    s\n",
      "3    h\n",
      "4    u\n",
      "5    a\n",
      "dtype: object\n",
      "\n",
      "Index:\n",
      " RangeIndex(start=0, stop=6, step=1)\n",
      "\n",
      "Values:\n",
      " ['J' 'o' 's' 'h' 'u' 'a']\n",
      "\n",
      "Shape:\n",
      " (6,)\n",
      "\n",
      "Dimension:\n",
      " 1\n",
      "\n",
      "Size:\n",
      " 6\n"
     ]
    }
   ],
   "source": [
    "import numpy as np\n",
    "import pandas as pd\n",
    "a=np.array(['J','o','s','h','u','a'])\n",
    "a=pd.Series(a)\n",
    "print(\"\\nA Series:\\n\",a)\n",
    "print(\"\\nIndex:\\n\",a.index)\n",
    "print(\"\\nValues:\\n\",a.values)\n",
    "print(\"\\nShape:\\n\",a.shape)\n",
    "print(\"\\nDimension:\\n\",a.ndim)\n",
    "print(\"\\nSize:\\n\",a.size)"
   ]
  },
  {
   "cell_type": "code",
   "execution_count": null,
   "id": "1f5ee4b0-87e1-4309-bb52-b0f8dd6be219",
   "metadata": {},
   "outputs": [],
   "source": []
  }
 ],
 "metadata": {
  "kernelspec": {
   "display_name": "Python [conda env:base] *",
   "language": "python",
   "name": "conda-base-py"
  },
  "language_info": {
   "codemirror_mode": {
    "name": "ipython",
    "version": 3
   },
   "file_extension": ".py",
   "mimetype": "text/x-python",
   "name": "python",
   "nbconvert_exporter": "python",
   "pygments_lexer": "ipython3",
   "version": "3.12.7"
  }
 },
 "nbformat": 4,
 "nbformat_minor": 5
}
